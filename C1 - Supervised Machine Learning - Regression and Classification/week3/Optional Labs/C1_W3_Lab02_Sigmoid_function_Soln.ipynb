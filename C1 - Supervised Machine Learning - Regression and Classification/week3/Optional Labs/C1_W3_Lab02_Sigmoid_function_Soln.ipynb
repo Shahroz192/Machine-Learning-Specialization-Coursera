{
 "cells": [
  {
   "cell_type": "markdown",
   "metadata": {
    "pycharm": {
     "name": "#%% md\n"
    }
   },
   "source": [
    "# Optional Lab: Logistic Regression\n",
    "\n",
    "In this ungraded lab, you will \n",
    "- explore the sigmoid function (also known as the logistic function)\n",
    "- explore logistic regression; which uses the sigmoid function"
   ]
  },
  {
   "cell_type": "code",
   "execution_count": 1,
   "metadata": {
    "pycharm": {
     "name": "#%%\n"
    }
   },
   "outputs": [],
   "source": [
    "import numpy as np\n",
    "%matplotlib widget\n",
    "import matplotlib.pyplot as plt\n",
    "from plt_one_addpt_onclick import plt_one_addpt_onclick\n",
    "from lab_utils_common import draw_vthresh\n",
    "plt.style.use('./deeplearning.mplstyle')"
   ]
  },
  {
   "cell_type": "markdown",
   "metadata": {
    "pycharm": {
     "name": "#%% md\n"
    }
   },
   "source": [
    "## Sigmoid or Logistic Function\n",
    "<img align=\"left\" src=\"./images/C1_W3_LogisticRegression_left.png\"     style=\" width:300px; padding: 10px; \" >As discussed in the lecture videos, for a classification task, we can start by using our linear regression model, $f_{\\mathbf{w},b}(\\mathbf{x}^{(i)}) = \\mathbf{w} \\cdot  \\mathbf{x}^{(i)} + b$, to predict $y$ given $x$. \n",
    "- However, we would like the predictions of our classification model to be between 0 and 1 since our output variable $y$ is either 0 or 1. \n",
    "- This can be accomplished by using a \"sigmoid function\" which maps all input values to values between 0 and 1. \n",
    "\n",
    "\n",
    "Let's implement the sigmoid function and see this for ourselves.\n",
    "\n",
    "## Formula for Sigmoid function\n",
    "\n",
    "The formula for a sigmoid function is as follows -  \n",
    "\n",
    "$g(z) = \\frac{1}{1+e^{-z}}\\tag{1}$\n",
    "\n",
    "In the case of logistic regression, z (the input to the sigmoid function), is the output of a linear regression model. \n",
    "- In the case of a single example, $z$ is scalar.\n",
    "- in the case of multiple examples, $z$ may be a vector consisting of $m$ values, one for each example. \n",
    "- The implementation of the sigmoid function should cover both of these potential input formats.\n",
    "Let's implement this in Python."
   ]
  },
  {
   "cell_type": "markdown",
   "metadata": {
    "pycharm": {
     "name": "#%% md\n"
    }
   },
   "source": [
    "NumPy has a function called [`exp()`](https://numpy.org/doc/stable/reference/generated/numpy.exp.html), which offers a convenient way to calculate the exponential ( $e^{z}$) of all elements in the input array (`z`).\n",
    " \n",
    "It also works with a single number as an input, as shown below."
   ]
  },
  {
   "cell_type": "code",
   "execution_count": 2,
   "metadata": {
    "pycharm": {
     "name": "#%%\n"
    }
   },
   "outputs": [
    {
     "name": "stdout",
     "output_type": "stream",
     "text": [
      "Input to exp: [1 2 3]\n",
      "Output of exp: [ 2.72  7.39 20.09]\n",
      "Input to exp: 1\n",
      "Output of exp: 2.718281828459045\n"
     ]
    }
   ],
   "source": [
    "# Input is an array. \n",
    "input_array = np.array([1,2,3])\n",
    "exp_array = np.exp(input_array)\n",
    "\n",
    "print(\"Input to exp:\", input_array)\n",
    "print(\"Output of exp:\", exp_array)\n",
    "\n",
    "# Input is a single number\n",
    "input_val = 1  \n",
    "exp_val = np.exp(input_val)\n",
    "\n",
    "print(\"Input to exp:\", input_val)\n",
    "print(\"Output of exp:\", exp_val)"
   ]
  },
  {
   "cell_type": "markdown",
   "metadata": {
    "pycharm": {
     "name": "#%% md\n"
    }
   },
   "source": [
    "The `sigmoid` function is implemented in python as shown in the cell below."
   ]
  },
  {
   "cell_type": "code",
   "execution_count": 3,
   "metadata": {
    "pycharm": {
     "name": "#%%\n"
    }
   },
   "outputs": [],
   "source": [
    "def sigmoid(z):\n",
    "    \"\"\"\n",
    "    Compute the sigmoid of z\n",
    "\n",
    "    Args:\n",
    "        z (ndarray): A scalar, numpy array of any size.\n",
    "\n",
    "    Returns:\n",
    "        g (ndarray): sigmoid(z), with the same shape as z\n",
    "         \n",
    "    \"\"\"\n",
    "\n",
    "    g = 1/(1+np.exp(-z))\n",
    "   \n",
    "    return g"
   ]
  },
  {
   "cell_type": "markdown",
   "metadata": {
    "pycharm": {
     "name": "#%% md\n"
    }
   },
   "source": [
    "Let's see what the output of this function is for various value of `z`"
   ]
  },
  {
   "cell_type": "code",
   "execution_count": 4,
   "metadata": {
    "pycharm": {
     "name": "#%%\n"
    }
   },
   "outputs": [
    {
     "name": "stdout",
     "output_type": "stream",
     "text": [
      "Input (z), Output (sigmoid(z))\n",
      "[[-1.000e+01  4.540e-05]\n",
      " [-9.000e+00  1.234e-04]\n",
      " [-8.000e+00  3.354e-04]\n",
      " [-7.000e+00  9.111e-04]\n",
      " [-6.000e+00  2.473e-03]\n",
      " [-5.000e+00  6.693e-03]\n",
      " [-4.000e+00  1.799e-02]\n",
      " [-3.000e+00  4.743e-02]\n",
      " [-2.000e+00  1.192e-01]\n",
      " [-1.000e+00  2.689e-01]\n",
      " [ 0.000e+00  5.000e-01]\n",
      " [ 1.000e+00  7.311e-01]\n",
      " [ 2.000e+00  8.808e-01]\n",
      " [ 3.000e+00  9.526e-01]\n",
      " [ 4.000e+00  9.820e-01]\n",
      " [ 5.000e+00  9.933e-01]\n",
      " [ 6.000e+00  9.975e-01]\n",
      " [ 7.000e+00  9.991e-01]\n",
      " [ 8.000e+00  9.997e-01]\n",
      " [ 9.000e+00  9.999e-01]\n",
      " [ 1.000e+01  1.000e+00]]\n"
     ]
    }
   ],
   "source": [
    "# Generate an array of evenly spaced values between -10 and 10\n",
    "z_tmp = np.arange(-10,11)\n",
    "\n",
    "# Use the function implemented above to get the sigmoid values\n",
    "y = sigmoid(z_tmp)\n",
    "\n",
    "# Code for pretty printing the two arrays next to each other\n",
    "np.set_printoptions(precision=3) \n",
    "print(\"Input (z), Output (sigmoid(z))\")\n",
    "print(np.c_[z_tmp, y])"
   ]
  },
  {
   "cell_type": "markdown",
   "metadata": {
    "pycharm": {
     "name": "#%% md\n"
    }
   },
   "source": [
    "The values in the left column are `z`, and the values in the right column are `sigmoid(z)`. As you can see, the input values to the sigmoid range from -10 to 10, and the output values range from 0 to 1. \n",
    "\n",
    "Now, let's try to plot this function using the `matplotlib` library."
   ]
  },
  {
   "cell_type": "code",
   "execution_count": 11,
   "metadata": {
    "pycharm": {
     "name": "#%%\n"
    }
   },
   "outputs": [
    {
     "data": {
      "application/vnd.jupyter.widget-view+json": {
       "model_id": "59e0b107c285467889f93d5961f6175c",
       "version_major": 2,
       "version_minor": 0
      },
      "image/png": "[encoded data removed]",
      "text/html": [
       "\n",
       "            <div style=\"display: inline-block;\">\n",
       "                <div class=\"jupyter-widgets widget-label\" style=\"text-align: center;\">\n",
       "                    Figure\n",
       "                </div>\n",
       "                <img src='data:image/png;base64,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' width=500.0/>\n",
       "            </div>\n",
       "        "
      ],
      "text/plain": [
       "Canvas(toolbar=Toolbar(toolitems=[('Home', 'Reset original view', 'home', 'home'), ('Back', 'Back to previous …"
      ]
     },
     "metadata": {},
     "output_type": "display_data"
    }
   ],
   "source": [
    "# Plot z vs sigmoid(z)\n",
    "fig,ax = plt.subplots(1,1,figsize=(5,3))\n",
    "ax.plot(z_tmp, y, c=\"b\")\n",
    "\n",
    "ax.set_title(\"Sigmoid function\")\n",
    "ax.set_ylabel('sigmoid(z)')\n",
    "ax.set_xlabel('z')\n",
    "draw_vthresh(ax,0)"
   ]
  },
  {
   "cell_type": "markdown",
   "metadata": {
    "pycharm": {
     "name": "#%% md\n"
    }
   },
   "source": [
    "As you can see, the sigmoid function approaches  `0` as `z` goes to large negative values and approaches `1` as `z` goes to large positive values.\n"
   ]
  },
  {
   "cell_type": "markdown",
   "metadata": {
    "pycharm": {
     "name": "#%% md\n"
    }
   },
   "source": [
    "## Logistic Regression\n",
    "<img align=\"left\" src=\"./images/C1_W3_LogisticRegression_right.png\"     style=\" width:300px; padding: 10px; \" > A logistic regression model applies the sigmoid to the familiar linear regression model as shown below:\n",
    "\n",
    "$$ f_{\\mathbf{w},b}(\\mathbf{x}^{(i)}) = g(\\mathbf{w} \\cdot \\mathbf{x}^{(i)} + b ) \\tag{2} $$ \n",
    "\n",
    "  where\n",
    "\n",
    "  $g(z) = \\frac{1}{1+e^{-z}}\\tag{3}$\n"
   ]
  },
  {
   "cell_type": "markdown",
   "metadata": {
    "pycharm": {
     "name": "#%% md\n"
    }
   },
   "source": [
    "  \n",
    "Let's apply logistic regression to the categorical data example of tumor classification.  \n",
    "First, load the examples and initial values for the parameters.\n",
    "  \n"
   ]
  },
  {
   "cell_type": "code",
   "execution_count": 6,
   "metadata": {
    "pycharm": {
     "name": "#%%\n"
    },
    "tags": []
   },
   "outputs": [],
   "source": [
    "x_train = np.array([0., 1, 2, 3, 4, 5])\n",
    "y_train = np.array([0,  0, 0, 1, 1, 1])\n",
    "\n",
    "w_in = np.zeros((1))\n",
    "b_in = 0"
   ]
  },
  {
   "cell_type": "markdown",
   "metadata": {
    "pycharm": {
     "name": "#%% md\n"
    }
   },
   "source": [
    "Try the following steps:\n",
    "- Click on 'Run Logistic Regression' to find the best logistic regression model for the given training data\n",
    "    - Note the resulting model fits the data quite well.\n",
    "    - Note, the orange line is '$z$' or $\\mathbf{w} \\cdot \\mathbf{x}^{(i)} + b$  above. It does not match the line in a linear regression model.\n",
    "Further improve these results by applying a *threshold*. \n",
    "- Tick the box on the 'Toggle 0.5 threshold' to show the predictions if a threshold is applied.\n",
    "    - These predictions look good. The predictions match the data\n",
    "    - Now, add further data points in the large tumor size range (near 10), and re-run logistic regression.\n",
    "    - unlike the linear regression model, this model continues to make correct predictions"
   ]
  },
  {
   "cell_type": "code",
   "execution_count": 9,
   "metadata": {
    "pycharm": {
     "name": "#%%\n"
    }
   },
   "outputs": [
    {
     "data": {
      "application/vnd.jupyter.widget-view+json": {
       "model_id": "4c1e34362dc94d99b2a9abec975031b7",
       "version_major": 2,
       "version_minor": 0
      },
      "image/png": "[encoded data removed]",
      "text/html": [
       "\n",
       "            <div style=\"display: inline-block;\">\n",
       "                <div class=\"jupyter-widgets widget-label\" style=\"text-align: center;\">\n",
       "                    Figure\n",
       "                </div>\n",
       "                <img src='data:image/png;base64,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' width=800.0/>\n",
       "            </div>\n",
       "        "
      ],
      "text/plain": [
       "Canvas(footer_visible=False, header_visible=False, toolbar=Toolbar(toolitems=[('Home', 'Reset original view', …"
      ]
     },
     "metadata": {},
     "output_type": "display_data"
    }
   ],
   "source": [
    "plt.close('all') \n",
    "addpt = plt_one_addpt_onclick( x_train,y_train, w_in, b_in, logistic=True)"
   ]
  },
  {
   "cell_type": "markdown",
   "metadata": {
    "pycharm": {
     "name": "#%% md\n"
    }
   },
   "source": [
    "## Congratulations!\n",
    "You have explored the use of the sigmoid function in logistic regression."
   ]
  },
  {
   "cell_type": "code",
   "execution_count": null,
   "metadata": {
    "pycharm": {
     "name": "#%%\n"
    }
   },
   "outputs": [],
   "source": []
  }
 ],
 "metadata": {
  "kernelspec": {
   "display_name": "Python 3",
   "language": "python",
   "name": "python3"
  },
  "language_info": {
   "codemirror_mode": {
    "name": "ipython",
    "version": 3
   },
   "file_extension": ".py",
   "mimetype": "text/x-python",
   "name": "python",
   "nbconvert_exporter": "python",
   "pygments_lexer": "ipython3",
   "version": "3.12.1"
  }
 },
 "nbformat": 4,
 "nbformat_minor": 5
}
